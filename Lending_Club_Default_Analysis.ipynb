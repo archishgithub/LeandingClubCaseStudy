{
 "cells": [
  {
   "cell_type": "markdown",
   "id": "39078970-44d0-4ba0-8538-ff6c62c20864",
   "metadata": {},
   "source": [
    "# Lending Club Default Analysis\n",
    "#### Batch ID : 4705\n",
    "#### Group Members : Samidh Bhagwat + Archishman Gantait\n"
   ]
  },
  {
   "cell_type": "markdown",
   "id": "17957a53-8df8-4a94-b10d-abd1ceb36483",
   "metadata": {
    "tags": []
   },
   "source": [
    "### Data Understanding + Data Cleaning and Manipulation "
   ]
  },
  {
   "cell_type": "code",
   "execution_count": 16,
   "id": "94568c5f-c3c9-47b8-b23d-f7ff704cb8e7",
   "metadata": {},
   "outputs": [],
   "source": [
    "#Below are few libraries needed to perform EDA and visualize data\n",
    "import numpy as np\n",
    "import pandas as pd\n",
    "import matplotlib.pyplot as plot\n",
    "import warnings\n",
    "import seaborn as sea\n",
    "import datetime as dt"
   ]
  },
  {
   "cell_type": "code",
   "execution_count": 261,
   "id": "976ea3df-aab4-4fcc-9b7c-ba21aebec77e",
   "metadata": {
    "tags": []
   },
   "outputs": [],
   "source": [
    "#The csv while reading throws error / warning hence a warning ingore statement has been added\n",
    "warnings.filterwarnings('ignore')\n",
    "raw_data = pd.read_csv('C:/Users/agantait/Downloads/LendingClubCaseStudy/loan.csv')"
   ]
  },
  {
   "cell_type": "markdown",
   "id": "dac69038-7c78-4dc4-866a-5955b170aafe",
   "metadata": {
    "tags": []
   },
   "source": [
    "#### 1. Fix Row Check / Fix Column Check / Filter Data / Standardizing Values and datatype :  <font color='blue'>DONE</font>"
   ]
  },
  {
   "cell_type": "code",
   "execution_count": 284,
   "id": "4bfa3ef3-1c15-4b66-9d0a-09b7f4991f85",
   "metadata": {
    "tags": []
   },
   "outputs": [
    {
     "name": "stdout",
     "output_type": "stream",
     "text": [
      "size of data : (39717, 111)\n",
      "\n",
      "1st row 1st 6 columns\n",
      "         id  member_id  loan_amnt  funded_amnt  funded_amnt_inv        term\n",
      "0  1077501    1296599       5000         5000           4975.0   36 months\n",
      "\n",
      "last row 1st 6 columns\n",
      "           id  member_id  loan_amnt  funded_amnt  funded_amnt_inv        term\n",
      "39716  87023      86999       7500         7500            800.0   36 months\n",
      "['Fully Paid' 'Charged Off' 'Current']\n",
      "duplicate row count :0\n",
      "size of data post operation: (39717, 111)\n"
     ]
    }
   ],
   "source": [
    "print(\"size of data : \" + str(raw_data.shape)) # get the shape of the data frame\n",
    "print(\"\\n1st row 1st 6 columns\\n \" + str(raw_data.iloc[:1, :6])) # check for few columns in 1st row as header check\n",
    "print(\"\\nlast row 1st 6 columns\\n \" + str(raw_data.iloc[-1:,:6])) # check for few columns in last row as footer check\n",
    "raw_data = raw_data.dropna(axis=0, how=\"all\") #remove records where all column values are null / na\n",
    "print(raw_data['loan_status'].unique()) # check on a low cardinality column if any column number indicators / blank rows are present \n",
    "print(\"duplicate row count :\" + str(len(raw_data[raw_data.duplicated()])))\n",
    "print(\"size of data post operation: \" + str(raw_data.shape)) # get the shape of the data frame"
   ]
  },
  {
   "cell_type": "code",
   "execution_count": 285,
   "id": "29091e7d-3df9-45e3-bf67-24b8a51371c6",
   "metadata": {
    "tags": []
   },
   "outputs": [
    {
     "data": {
      "text/plain": [
       "(38577, 111)"
      ]
     },
     "execution_count": 285,
     "metadata": {},
     "output_type": "execute_result"
    }
   ],
   "source": [
    "#since people with loan_status = 'Current' cannot be considered as defaulters removing them from analysis\n",
    "refined_data = raw_data[raw_data['loan_status']!='Current']\n",
    "refined_data.shape"
   ]
  },
  {
   "cell_type": "code",
   "execution_count": 286,
   "id": "7d297376-137a-4c38-a659-dd3949d7c9b4",
   "metadata": {
    "tags": []
   },
   "outputs": [
    {
     "name": "stdout",
     "output_type": "stream",
     "text": [
      "Columns withn null/Na : 55\n"
     ]
    },
    {
     "data": {
      "text/plain": [
       "Index(['next_pymnt_d', 'mths_since_last_major_derog', 'annual_inc_joint',\n",
       "       'dti_joint', 'verification_status_joint', 'tot_coll_amt', 'tot_cur_bal',\n",
       "       'open_acc_6m', 'open_il_6m', 'open_il_12m', 'open_il_24m',\n",
       "       'mths_since_rcnt_il', 'total_bal_il', 'il_util', 'open_rv_12m',\n",
       "       'open_rv_24m', 'max_bal_bc', 'all_util', 'total_rev_hi_lim', 'inq_fi',\n",
       "       'total_cu_tl', 'inq_last_12m', 'acc_open_past_24mths', 'avg_cur_bal',\n",
       "       'bc_open_to_buy', 'bc_util', 'mo_sin_old_il_acct',\n",
       "       'mo_sin_old_rev_tl_op', 'mo_sin_rcnt_rev_tl_op', 'mo_sin_rcnt_tl',\n",
       "       'mort_acc', 'mths_since_recent_bc', 'mths_since_recent_bc_dlq',\n",
       "       'mths_since_recent_inq', 'mths_since_recent_revol_delinq',\n",
       "       'num_accts_ever_120_pd', 'num_actv_bc_tl', 'num_actv_rev_tl',\n",
       "       'num_bc_sats', 'num_bc_tl', 'num_il_tl', 'num_op_rev_tl',\n",
       "       'num_rev_accts', 'num_rev_tl_bal_gt_0', 'num_sats', 'num_tl_120dpd_2m',\n",
       "       'num_tl_30dpd', 'num_tl_90g_dpd_24m', 'num_tl_op_past_12m',\n",
       "       'pct_tl_nvr_dlq', 'percent_bc_gt_75', 'tot_hi_cred_lim',\n",
       "       'total_bal_ex_mort', 'total_bc_limit', 'total_il_high_credit_limit'],\n",
       "      dtype='object')"
      ]
     },
     "execution_count": 286,
     "metadata": {},
     "output_type": "execute_result"
    }
   ],
   "source": [
    "print(\"Columns withn null/Na : \"+str(len(refined_data.columns[refined_data.isna().all()])))\n",
    "refined_data.columns[refined_data.isna().all()]"
   ]
  },
  {
   "cell_type": "code",
   "execution_count": 291,
   "id": "755a7ce8-c8a2-479f-b57d-299f7b9fdaa6",
   "metadata": {
    "tags": []
   },
   "outputs": [
    {
     "name": "stdout",
     "output_type": "stream",
     "text": [
      "remaining column count : 56\n"
     ]
    },
    {
     "data": {
      "text/plain": [
       "Index(['id', 'member_id', 'loan_amnt', 'funded_amnt', 'funded_amnt_inv',\n",
       "       'term', 'int_rate', 'installment', 'grade', 'sub_grade', 'emp_title',\n",
       "       'emp_length', 'home_ownership', 'annual_inc', 'verification_status',\n",
       "       'issue_d', 'loan_status', 'pymnt_plan', 'url', 'desc', 'purpose',\n",
       "       'title', 'zip_code', 'addr_state', 'dti', 'delinq_2yrs',\n",
       "       'earliest_cr_line', 'inq_last_6mths', 'mths_since_last_delinq',\n",
       "       'mths_since_last_record', 'open_acc', 'pub_rec', 'revol_bal',\n",
       "       'revol_util', 'total_acc', 'initial_list_status', 'out_prncp',\n",
       "       'out_prncp_inv', 'total_pymnt', 'total_pymnt_inv', 'total_rec_prncp',\n",
       "       'total_rec_int', 'total_rec_late_fee', 'recoveries',\n",
       "       'collection_recovery_fee', 'last_pymnt_d', 'last_pymnt_amnt',\n",
       "       'last_credit_pull_d', 'collections_12_mths_ex_med', 'policy_code',\n",
       "       'application_type', 'acc_now_delinq', 'chargeoff_within_12_mths',\n",
       "       'delinq_amnt', 'pub_rec_bankruptcies', 'tax_liens'],\n",
       "      dtype='object')"
      ]
     },
     "execution_count": 291,
     "metadata": {},
     "output_type": "execute_result"
    }
   ],
   "source": [
    "#Deleting Na columns\n",
    "refined_data = refined_data.dropna(axis=1, how=\"all\")\n",
    "print(\"remaining column count : \" +str(len(refined_data.columns)))\n",
    "refined_data.columns"
   ]
  },
  {
   "cell_type": "code",
   "execution_count": 146,
   "id": "577947aa-e1a6-4051-9b73-08b33e5dc99f",
   "metadata": {
    "tags": []
   },
   "outputs": [
    {
     "data": {
      "text/html": [
       "<div>\n",
       "<style scoped>\n",
       "    .dataframe tbody tr th:only-of-type {\n",
       "        vertical-align: middle;\n",
       "    }\n",
       "\n",
       "    .dataframe tbody tr th {\n",
       "        vertical-align: top;\n",
       "    }\n",
       "\n",
       "    .dataframe thead th {\n",
       "        text-align: right;\n",
       "    }\n",
       "</style>\n",
       "<table border=\"1\" class=\"dataframe\">\n",
       "  <thead>\n",
       "    <tr style=\"text-align: right;\">\n",
       "      <th></th>\n",
       "      <th>id</th>\n",
       "      <th>member_id</th>\n",
       "      <th>loan_amnt</th>\n",
       "      <th>funded_amnt</th>\n",
       "      <th>funded_amnt_inv</th>\n",
       "      <th>term</th>\n",
       "      <th>int_rate</th>\n",
       "      <th>installment</th>\n",
       "      <th>grade</th>\n",
       "      <th>sub_grade</th>\n",
       "      <th>...</th>\n",
       "      <th>last_pymnt_amnt</th>\n",
       "      <th>last_credit_pull_d</th>\n",
       "      <th>collections_12_mths_ex_med</th>\n",
       "      <th>policy_code</th>\n",
       "      <th>application_type</th>\n",
       "      <th>acc_now_delinq</th>\n",
       "      <th>chargeoff_within_12_mths</th>\n",
       "      <th>delinq_amnt</th>\n",
       "      <th>pub_rec_bankruptcies</th>\n",
       "      <th>tax_liens</th>\n",
       "    </tr>\n",
       "  </thead>\n",
       "  <tbody>\n",
       "    <tr>\n",
       "      <th>0</th>\n",
       "      <td>1077501</td>\n",
       "      <td>1296599</td>\n",
       "      <td>5000</td>\n",
       "      <td>5000</td>\n",
       "      <td>4975.0</td>\n",
       "      <td>36 months</td>\n",
       "      <td>10.65%</td>\n",
       "      <td>162.87</td>\n",
       "      <td>B</td>\n",
       "      <td>B2</td>\n",
       "      <td>...</td>\n",
       "      <td>171.62</td>\n",
       "      <td>May-16</td>\n",
       "      <td>0.0</td>\n",
       "      <td>1</td>\n",
       "      <td>INDIVIDUAL</td>\n",
       "      <td>0</td>\n",
       "      <td>0.0</td>\n",
       "      <td>0</td>\n",
       "      <td>0.0</td>\n",
       "      <td>0.0</td>\n",
       "    </tr>\n",
       "    <tr>\n",
       "      <th>1</th>\n",
       "      <td>1077430</td>\n",
       "      <td>1314167</td>\n",
       "      <td>2500</td>\n",
       "      <td>2500</td>\n",
       "      <td>2500.0</td>\n",
       "      <td>60 months</td>\n",
       "      <td>15.27%</td>\n",
       "      <td>59.83</td>\n",
       "      <td>C</td>\n",
       "      <td>C4</td>\n",
       "      <td>...</td>\n",
       "      <td>119.66</td>\n",
       "      <td>Sep-13</td>\n",
       "      <td>0.0</td>\n",
       "      <td>1</td>\n",
       "      <td>INDIVIDUAL</td>\n",
       "      <td>0</td>\n",
       "      <td>0.0</td>\n",
       "      <td>0</td>\n",
       "      <td>0.0</td>\n",
       "      <td>0.0</td>\n",
       "    </tr>\n",
       "    <tr>\n",
       "      <th>2</th>\n",
       "      <td>1077175</td>\n",
       "      <td>1313524</td>\n",
       "      <td>2400</td>\n",
       "      <td>2400</td>\n",
       "      <td>2400.0</td>\n",
       "      <td>36 months</td>\n",
       "      <td>15.96%</td>\n",
       "      <td>84.33</td>\n",
       "      <td>C</td>\n",
       "      <td>C5</td>\n",
       "      <td>...</td>\n",
       "      <td>649.91</td>\n",
       "      <td>May-16</td>\n",
       "      <td>0.0</td>\n",
       "      <td>1</td>\n",
       "      <td>INDIVIDUAL</td>\n",
       "      <td>0</td>\n",
       "      <td>0.0</td>\n",
       "      <td>0</td>\n",
       "      <td>0.0</td>\n",
       "      <td>0.0</td>\n",
       "    </tr>\n",
       "    <tr>\n",
       "      <th>3</th>\n",
       "      <td>1076863</td>\n",
       "      <td>1277178</td>\n",
       "      <td>10000</td>\n",
       "      <td>10000</td>\n",
       "      <td>10000.0</td>\n",
       "      <td>36 months</td>\n",
       "      <td>13.49%</td>\n",
       "      <td>339.31</td>\n",
       "      <td>C</td>\n",
       "      <td>C1</td>\n",
       "      <td>...</td>\n",
       "      <td>357.48</td>\n",
       "      <td>Apr-16</td>\n",
       "      <td>0.0</td>\n",
       "      <td>1</td>\n",
       "      <td>INDIVIDUAL</td>\n",
       "      <td>0</td>\n",
       "      <td>0.0</td>\n",
       "      <td>0</td>\n",
       "      <td>0.0</td>\n",
       "      <td>0.0</td>\n",
       "    </tr>\n",
       "    <tr>\n",
       "      <th>5</th>\n",
       "      <td>1075269</td>\n",
       "      <td>1311441</td>\n",
       "      <td>5000</td>\n",
       "      <td>5000</td>\n",
       "      <td>5000.0</td>\n",
       "      <td>36 months</td>\n",
       "      <td>7.90%</td>\n",
       "      <td>156.46</td>\n",
       "      <td>A</td>\n",
       "      <td>A4</td>\n",
       "      <td>...</td>\n",
       "      <td>161.03</td>\n",
       "      <td>Jan-16</td>\n",
       "      <td>0.0</td>\n",
       "      <td>1</td>\n",
       "      <td>INDIVIDUAL</td>\n",
       "      <td>0</td>\n",
       "      <td>0.0</td>\n",
       "      <td>0</td>\n",
       "      <td>0.0</td>\n",
       "      <td>0.0</td>\n",
       "    </tr>\n",
       "  </tbody>\n",
       "</table>\n",
       "<p>5 rows × 56 columns</p>\n",
       "</div>"
      ],
      "text/plain": [
       "        id  member_id  loan_amnt  funded_amnt  funded_amnt_inv        term  \\\n",
       "0  1077501    1296599       5000         5000           4975.0   36 months   \n",
       "1  1077430    1314167       2500         2500           2500.0   60 months   \n",
       "2  1077175    1313524       2400         2400           2400.0   36 months   \n",
       "3  1076863    1277178      10000        10000          10000.0   36 months   \n",
       "5  1075269    1311441       5000         5000           5000.0   36 months   \n",
       "\n",
       "  int_rate  installment grade sub_grade  ... last_pymnt_amnt  \\\n",
       "0   10.65%       162.87     B        B2  ...          171.62   \n",
       "1   15.27%        59.83     C        C4  ...          119.66   \n",
       "2   15.96%        84.33     C        C5  ...          649.91   \n",
       "3   13.49%       339.31     C        C1  ...          357.48   \n",
       "5    7.90%       156.46     A        A4  ...          161.03   \n",
       "\n",
       "  last_credit_pull_d collections_12_mths_ex_med  policy_code application_type  \\\n",
       "0             May-16                        0.0            1       INDIVIDUAL   \n",
       "1             Sep-13                        0.0            1       INDIVIDUAL   \n",
       "2             May-16                        0.0            1       INDIVIDUAL   \n",
       "3             Apr-16                        0.0            1       INDIVIDUAL   \n",
       "5             Jan-16                        0.0            1       INDIVIDUAL   \n",
       "\n",
       "  acc_now_delinq chargeoff_within_12_mths delinq_amnt pub_rec_bankruptcies  \\\n",
       "0              0                      0.0           0                  0.0   \n",
       "1              0                      0.0           0                  0.0   \n",
       "2              0                      0.0           0                  0.0   \n",
       "3              0                      0.0           0                  0.0   \n",
       "5              0                      0.0           0                  0.0   \n",
       "\n",
       "  tax_liens  \n",
       "0       0.0  \n",
       "1       0.0  \n",
       "2       0.0  \n",
       "3       0.0  \n",
       "5       0.0  \n",
       "\n",
       "[5 rows x 56 columns]"
      ]
     },
     "execution_count": 146,
     "metadata": {},
     "output_type": "execute_result"
    }
   ],
   "source": []
  },
  {
   "cell_type": "markdown",
   "id": "a1649849-4714-4b1b-a0f9-01cf8a0cbde3",
   "metadata": {},
   "source": [
    "##### There can be 2 types of columns in the file\n",
    "###### Type 1 : columns that can be populated before loan approval <font color='green'>(Should ne used for EDA)</font>\n",
    "###### Type 2 : columns that can be populated after loan approval <font color='red'>(can be ignored for EDA)</font>"
   ]
  },
  {
   "cell_type": "code",
   "execution_count": 356,
   "id": "a465f62a-bf66-43db-9cdc-84f709cf35be",
   "metadata": {
    "tags": []
   },
   "outputs": [],
   "source": [
    "# removing type 2 columns\n",
    "refined_data_eda = refined_data.copy()\n",
    "refined_data_eda.drop(['application_type'],axis=1, inplace=True)\n",
    "refined_data_eda.drop(['delinq_2yrs'],axis=1, inplace=True)\n",
    "refined_data_eda.drop(['collection_recovery_fee'],axis=1, inplace=True)\n",
    "refined_data_eda.drop(['earliest_cr_line'],axis=1, inplace=True)\n",
    "refined_data_eda.drop(['inq_last_6mths'],axis=1, inplace=True)\n",
    "refined_data_eda.drop(['last_credit_pull_d'],axis=1, inplace=True)\n",
    "refined_data_eda.drop(['last_pymnt_amnt'],axis=1, inplace=True)\n",
    "refined_data_eda.drop(['last_pymnt_d'],axis=1, inplace=True)\n",
    "refined_data_eda.drop(['open_acc'],axis=1, inplace=True)\n",
    "refined_data_eda.drop(['out_prncp'],axis=1, inplace=True)\n",
    "refined_data_eda.drop(['out_prncp_inv'],axis=1, inplace=True)\n",
    "refined_data_eda.drop(['pub_rec'],axis=1, inplace=True)\n",
    "refined_data_eda.drop(['revol_bal'],axis=1, inplace=True)\n",
    "refined_data_eda.drop(['revol_util'],axis=1, inplace=True)\n",
    "refined_data_eda.drop(['recoveries'],axis=1, inplace=True)\n",
    "refined_data_eda.drop(['total_acc'],axis=1, inplace=True)\n",
    "refined_data_eda.drop(['total_pymnt'],axis=1, inplace=True)\n",
    "refined_data_eda.drop(['total_pymnt_inv'],axis=1, inplace=True)\n",
    "refined_data_eda.drop(['total_rec_prncp'],axis=1, inplace=True)\n",
    "refined_data_eda.drop(['total_rec_int'],axis=1, inplace=True)\n",
    "refined_data_eda.drop(['total_rec_late_fee'],axis=1, inplace=True)\n"
   ]
  },
  {
   "cell_type": "code",
   "execution_count": 357,
   "id": "d13ebf85-21f2-457b-bebe-1b0c166ee887",
   "metadata": {
    "tags": []
   },
   "outputs": [
    {
     "data": {
      "text/plain": [
       "pymnt_plan                        1\n",
       "delinq_amnt                       1\n",
       "chargeoff_within_12_mths          1\n",
       "acc_now_delinq                    1\n",
       "policy_code                       1\n",
       "collections_12_mths_ex_med        1\n",
       "initial_list_status               1\n",
       "tax_liens                         1\n",
       "term                              2\n",
       "loan_status                       2\n",
       "pub_rec_bankruptcies              3\n",
       "verification_status               3\n",
       "home_ownership                    5\n",
       "grade                             7\n",
       "emp_length                       11\n",
       "purpose                          14\n",
       "sub_grade                        35\n",
       "addr_state                       50\n",
       "issue_d                          55\n",
       "mths_since_last_delinq           95\n",
       "mths_since_last_record          111\n",
       "int_rate                        370\n",
       "zip_code                        822\n",
       "loan_amnt                       870\n",
       "funded_amnt                    1019\n",
       "dti                            2853\n",
       "annual_inc                     5215\n",
       "funded_amnt_inv                8050\n",
       "installment                   15022\n",
       "title                         19297\n",
       "desc                          25802\n",
       "emp_title                     28027\n",
       "url                           38577\n",
       "member_id                     38577\n",
       "id                            38577\n",
       "dtype: int64"
      ]
     },
     "execution_count": 357,
     "metadata": {},
     "output_type": "execute_result"
    }
   ],
   "source": [
    "# check the cardinality in the columns\n",
    "refined_data_eda.nunique().sort_values()"
   ]
  },
  {
   "cell_type": "code",
   "execution_count": 358,
   "id": "f81cf8cb-4268-4b6f-8d4c-101f54c3b32b",
   "metadata": {
    "tags": []
   },
   "outputs": [],
   "source": [
    "# Since columns with unique values / columns having only 1 value / text descriptions are not preferable dropping these from EDA\n",
    "refined_data_eda.drop(['pymnt_plan'],axis=1, inplace=True)\n",
    "refined_data_eda.drop(['delinq_amnt'],axis=1, inplace=True)\n",
    "refined_data_eda.drop(['chargeoff_within_12_mths'],axis=1, inplace=True)\n",
    "refined_data_eda.drop(['policy_code'],axis=1, inplace=True)\n",
    "refined_data_eda.drop(['collections_12_mths_ex_med'],axis=1, inplace=True)\n",
    "refined_data_eda.drop(['initial_list_status'],axis=1, inplace=True)\n",
    "refined_data_eda.drop(['acc_now_delinq'],axis=1, inplace=True)\n",
    "refined_data_eda.drop(['tax_liens'],axis=1, inplace=True)\n",
    "\n",
    "# dropping url and member_id , but keeping id for now\n",
    "refined_data_eda.drop(['url','member_id'],axis=1, inplace=True)\n",
    "\n",
    "# dropping title and desc and emp_title as they are not much valuable for EDA\n",
    "refined_data_eda.drop(columns=['desc','title','emp_title'],inplace=True)"
   ]
  },
  {
   "cell_type": "code",
   "execution_count": 359,
   "id": "69cb8ba9-ffb1-44cf-a9de-8437c9a4519e",
   "metadata": {
    "tags": []
   },
   "outputs": [
    {
     "name": "stdout",
     "output_type": "stream",
     "text": [
      "<class 'pandas.core.frame.DataFrame'>\n",
      "Index: 38577 entries, 0 to 39716\n",
      "Data columns (total 22 columns):\n",
      " #   Column                  Non-Null Count  Dtype  \n",
      "---  ------                  --------------  -----  \n",
      " 0   id                      38577 non-null  int64  \n",
      " 1   loan_amnt               38577 non-null  int64  \n",
      " 2   funded_amnt             38577 non-null  int64  \n",
      " 3   funded_amnt_inv         38577 non-null  float64\n",
      " 4   term                    38577 non-null  object \n",
      " 5   int_rate                38577 non-null  object \n",
      " 6   installment             38577 non-null  float64\n",
      " 7   grade                   38577 non-null  object \n",
      " 8   sub_grade               38577 non-null  object \n",
      " 9   emp_length              37544 non-null  object \n",
      " 10  home_ownership          38577 non-null  object \n",
      " 11  annual_inc              38577 non-null  float64\n",
      " 12  verification_status     38577 non-null  object \n",
      " 13  issue_d                 38577 non-null  object \n",
      " 14  loan_status             38577 non-null  object \n",
      " 15  purpose                 38577 non-null  object \n",
      " 16  zip_code                38577 non-null  object \n",
      " 17  addr_state              38577 non-null  object \n",
      " 18  dti                     38577 non-null  float64\n",
      " 19  mths_since_last_delinq  13672 non-null  float64\n",
      " 20  mths_since_last_record  2740 non-null   float64\n",
      " 21  pub_rec_bankruptcies    37880 non-null  float64\n",
      "dtypes: float64(7), int64(3), object(12)\n",
      "memory usage: 6.8+ MB\n"
     ]
    }
   ],
   "source": [
    "refined_data_eda.info()"
   ]
  },
  {
   "cell_type": "code",
   "execution_count": 360,
   "id": "8f50452a-fca8-460f-a428-ebc04c22f016",
   "metadata": {
    "tags": []
   },
   "outputs": [],
   "source": [
    "# mths_since_last_delinq  and mths_since_last_record  have 50% null data hence dropping them\n",
    "refined_data_eda.drop(['mths_since_last_delinq'],axis=1, inplace=True)\n",
    "refined_data_eda.drop(['mths_since_last_record'],axis=1, inplace=True)\n"
   ]
  },
  {
   "cell_type": "code",
   "execution_count": 361,
   "id": "fcbe92dd-0c64-4ca3-851f-00c596bf3484",
   "metadata": {
    "tags": []
   },
   "outputs": [
    {
     "name": "stdout",
     "output_type": "stream",
     "text": [
      "<class 'pandas.core.frame.DataFrame'>\n",
      "Index: 38577 entries, 0 to 39716\n",
      "Data columns (total 20 columns):\n",
      " #   Column                Non-Null Count  Dtype  \n",
      "---  ------                --------------  -----  \n",
      " 0   id                    38577 non-null  int64  \n",
      " 1   loan_amnt             38577 non-null  int64  \n",
      " 2   funded_amnt           38577 non-null  int64  \n",
      " 3   funded_amnt_inv       38577 non-null  float64\n",
      " 4   term                  38577 non-null  object \n",
      " 5   int_rate              38577 non-null  object \n",
      " 6   installment           38577 non-null  float64\n",
      " 7   grade                 38577 non-null  object \n",
      " 8   sub_grade             38577 non-null  object \n",
      " 9   emp_length            37544 non-null  object \n",
      " 10  home_ownership        38577 non-null  object \n",
      " 11  annual_inc            38577 non-null  float64\n",
      " 12  verification_status   38577 non-null  object \n",
      " 13  issue_d               38577 non-null  object \n",
      " 14  loan_status           38577 non-null  object \n",
      " 15  purpose               38577 non-null  object \n",
      " 16  zip_code              38577 non-null  object \n",
      " 17  addr_state            38577 non-null  object \n",
      " 18  dti                   38577 non-null  float64\n",
      " 19  pub_rec_bankruptcies  37880 non-null  float64\n",
      "dtypes: float64(5), int64(3), object(12)\n",
      "memory usage: 6.2+ MB\n"
     ]
    }
   ],
   "source": [
    "refined_data_eda.info()"
   ]
  },
  {
   "cell_type": "markdown",
   "id": "f756b5d7-deb6-402d-a35e-36a390943bb8",
   "metadata": {},
   "source": [
    "#### Ordered categorical : issue_d  , loan_status   \n",
    "\n",
    "#### Unordered categorical : grade , sub_grade , home_ownership , verification_status , purpose  \n",
    "\n",
    "#### Quantitative Variable : loan_amnt , funded_amnt , funded_amnt_inv , term , int_rate , installment , annual_inc  , dti  , pub_rec_bankruptcies    \n",
    "\n",
    "#### Others : zip_code , addr_state  , id    "
   ]
  },
  {
   "cell_type": "code",
   "execution_count": 362,
   "id": "6ee85f97-0c93-4604-916c-2a885cb813a4",
   "metadata": {
    "tags": []
   },
   "outputs": [
    {
     "name": "stdout",
     "output_type": "stream",
     "text": [
      "        id  loan_amnt  funded_amnt  funded_amnt_inv        term int_rate  \\\n",
      "0  1077501       5000         5000           4975.0   36 months   10.65%   \n",
      "1  1077430       2500         2500           2500.0   60 months   15.27%   \n",
      "\n",
      "   installment grade sub_grade emp_length home_ownership  annual_inc  \\\n",
      "0       162.87     B        B2  10+ years           RENT     24000.0   \n",
      "1        59.83     C        C4   < 1 year           RENT     30000.0   \n",
      "\n",
      "  verification_status issue_d  loan_status      purpose zip_code addr_state  \\\n",
      "0            Verified  Dec-11   Fully Paid  credit_card    860xx         AZ   \n",
      "1     Source Verified  Dec-11  Charged Off          car    309xx         GA   \n",
      "\n",
      "     dti  pub_rec_bankruptcies  \n",
      "0  27.65                   0.0  \n",
      "1   1.00                   0.0  \n"
     ]
    }
   ],
   "source": [
    "print(refined_data_eda.head(2))"
   ]
  },
  {
   "cell_type": "code",
   "execution_count": 363,
   "id": "6997d11f-a7f6-47c2-b138-81a39b98f61f",
   "metadata": {
    "tags": []
   },
   "outputs": [
    {
     "name": "stdout",
     "output_type": "stream",
     "text": [
      "<class 'pandas.core.frame.DataFrame'>\n",
      "Index: 38577 entries, 0 to 39716\n",
      "Data columns (total 20 columns):\n",
      " #   Column                Non-Null Count  Dtype  \n",
      "---  ------                --------------  -----  \n",
      " 0   id                    38577 non-null  int64  \n",
      " 1   loan_amnt             38577 non-null  float64\n",
      " 2   funded_amnt           38577 non-null  float64\n",
      " 3   funded_amnt_inv       38577 non-null  float64\n",
      " 4   term                  38577 non-null  int64  \n",
      " 5   int_rate              38577 non-null  float64\n",
      " 6   installment           38577 non-null  float64\n",
      " 7   grade                 38577 non-null  object \n",
      " 8   sub_grade             38577 non-null  object \n",
      " 9   emp_length            37544 non-null  object \n",
      " 10  home_ownership        38577 non-null  object \n",
      " 11  annual_inc            38577 non-null  float64\n",
      " 12  verification_status   38577 non-null  object \n",
      " 13  issue_d               38577 non-null  object \n",
      " 14  loan_status           38577 non-null  object \n",
      " 15  purpose               38577 non-null  object \n",
      " 16  zip_code              38577 non-null  object \n",
      " 17  addr_state            38577 non-null  object \n",
      " 18  dti                   38577 non-null  float64\n",
      " 19  pub_rec_bankruptcies  37880 non-null  float64\n",
      "dtypes: float64(8), int64(2), object(10)\n",
      "memory usage: 6.2+ MB\n"
     ]
    }
   ],
   "source": [
    "#converting term to numeric format\n",
    "refined_data_eda['term'] = refined_data_eda['term'].apply(lambda x: x.strip().split()[0])\n",
    "refined_data_eda = refined_data_eda.astype({'term':'int64'})\n",
    "\n",
    "#converting int_rate to decimal/float\n",
    "refined_data_eda['int_rate'] = refined_data_eda['int_rate'].apply(lambda x: x.strip('%'))\n",
    "refined_data_eda = refined_data_eda.astype({'int_rate':'float'})\n",
    "\n",
    "# changing the datatype of loan_amnt and funded_amnt to flot64 in sync with funded_amnt_inv\n",
    "refined_data_eda = refined_data_eda.astype({'loan_amnt':'float','funded_amnt':'float'})\n",
    "refined_data_eda.info()\n",
    "\n",
    "# rounding off these float columns 'loan_amnt', 'funded_amnt', 'funded_amnt_inv', 'int_rate', 'dti'\n",
    "refined_data_eda['loan_amnt'] = refined_data_eda['loan_amnt'].apply(lambda x: round(x,2))\n",
    "refined_data_eda['funded_amnt'] = refined_data_eda['funded_amnt'].apply(lambda x: round(x,2))\n",
    "refined_data_eda['funded_amnt_inv'] = refined_data_eda['funded_amnt_inv'].apply(lambda x: round(x,2))\n",
    "refined_data_eda['int_rate'] = refined_data_eda['int_rate'].apply(lambda x: round(x,2))\n",
    "refined_data_eda['dti'] = refined_data_eda['dti'].apply(lambda x: round(x,2))"
   ]
  },
  {
   "cell_type": "code",
   "execution_count": 368,
   "id": "c66557b0-03fe-4c9d-9974-6509985427bc",
   "metadata": {
    "tags": []
   },
   "outputs": [],
   "source": [
    "#changing data type of issue_d`to date \n",
    "refined_data_eda['issue_d'] = pd.to_datetime(refined_data_eda.issue_d, format='%b-%y')"
   ]
  },
  {
   "cell_type": "code",
   "execution_count": 380,
   "id": "8514f7b0-9973-4815-b9ad-a975f3abbb9e",
   "metadata": {
    "tags": []
   },
   "outputs": [
    {
     "data": {
      "text/plain": [
       "array(['10+ years', '< 1 year', '3 years', '8 years', '9 years',\n",
       "       '4 years', '5 years', '1 year', '6 years', '2 years', '7 years'],\n",
       "      dtype=object)"
      ]
     },
     "execution_count": 380,
     "metadata": {},
     "output_type": "execute_result"
    }
   ],
   "source": [
    "refined_data_eda.emp_length.unique()"
   ]
  },
  {
   "cell_type": "code",
   "execution_count": 374,
   "id": "f33b1bd9-f38f-4341-93f3-43724565c40b",
   "metadata": {
    "tags": []
   },
   "outputs": [],
   "source": [
    "#removing records where emp_length or pub_rec_bankruptcies is null as they are incomplete information for EDA\n",
    "refined_data_eda= refined_data_eda[refined_data_eda['emp_length'].notna()]\n",
    "refined_data_eda= refined_data_eda[refined_data_eda['pub_rec_bankruptcies'].notna()]"
   ]
  },
  {
   "cell_type": "code",
   "execution_count": 387,
   "id": "870fbc30-ec65-48c5-a890-86c87861e1b6",
   "metadata": {
    "tags": []
   },
   "outputs": [],
   "source": [
    "#changing emp_length to a preferable numeric format \n",
    "refined_data_eda = refined_data_eda.astype({'emp_length':'str'})\n",
    "refined_data_eda['emp_length']=refined_data_eda['emp_length'].apply(lambda x : x.strip(\"years\"))\n",
    "refined_data_eda['emp_length']=refined_data_eda['emp_length'].apply(lambda x : x.strip(\"<\"))\n",
    "refined_data_eda['emp_length']=refined_data_eda['emp_length'].apply(lambda x : x.replace(\" \", \"\"))\n",
    "refined_data_eda['emp_length']=refined_data_eda['emp_length'].apply(lambda x : x.replace(\"+\", \"\"))"
   ]
  },
  {
   "cell_type": "code",
   "execution_count": 388,
   "id": "959d51b2-e1fd-4e77-8e81-115798446950",
   "metadata": {
    "tags": []
   },
   "outputs": [
    {
     "data": {
      "text/plain": [
       "(36847, 20)"
      ]
     },
     "execution_count": 388,
     "metadata": {},
     "output_type": "execute_result"
    }
   ],
   "source": [
    "refined_data_eda.shape"
   ]
  },
  {
   "cell_type": "code",
   "execution_count": 389,
   "id": "caaceffc-a536-4d33-8232-f8d8dc5f38c8",
   "metadata": {
    "tags": []
   },
   "outputs": [
    {
     "name": "stdout",
     "output_type": "stream",
     "text": [
      "<class 'pandas.core.frame.DataFrame'>\n",
      "Index: 36847 entries, 0 to 39680\n",
      "Data columns (total 20 columns):\n",
      " #   Column                Non-Null Count  Dtype         \n",
      "---  ------                --------------  -----         \n",
      " 0   id                    36847 non-null  int64         \n",
      " 1   loan_amnt             36847 non-null  float64       \n",
      " 2   funded_amnt           36847 non-null  float64       \n",
      " 3   funded_amnt_inv       36847 non-null  float64       \n",
      " 4   term                  36847 non-null  int64         \n",
      " 5   int_rate              36847 non-null  float64       \n",
      " 6   installment           36847 non-null  float64       \n",
      " 7   grade                 36847 non-null  object        \n",
      " 8   sub_grade             36847 non-null  object        \n",
      " 9   emp_length            36847 non-null  object        \n",
      " 10  home_ownership        36847 non-null  object        \n",
      " 11  annual_inc            36847 non-null  float64       \n",
      " 12  verification_status   36847 non-null  object        \n",
      " 13  issue_d               36847 non-null  datetime64[ns]\n",
      " 14  loan_status           36847 non-null  object        \n",
      " 15  purpose               36847 non-null  object        \n",
      " 16  zip_code              36847 non-null  object        \n",
      " 17  addr_state            36847 non-null  object        \n",
      " 18  dti                   36847 non-null  float64       \n",
      " 19  pub_rec_bankruptcies  36847 non-null  float64       \n",
      "dtypes: datetime64[ns](1), float64(8), int64(2), object(9)\n",
      "memory usage: 5.9+ MB\n"
     ]
    }
   ],
   "source": [
    "refined_data_eda.info()"
   ]
  },
  {
   "cell_type": "code",
   "execution_count": 391,
   "id": "9cca681b-1be6-40a7-a57b-e3e62e0eb453",
   "metadata": {
    "tags": []
   },
   "outputs": [
    {
     "name": "stdout",
     "output_type": "stream",
     "text": [
      "0        10\n",
      "1         1\n",
      "2        10\n",
      "3        10\n",
      "5         3\n",
      "         ..\n",
      "39562     1\n",
      "39573     3\n",
      "39623     8\n",
      "39666     2\n",
      "39680     2\n",
      "Name: emp_length, Length: 36847, dtype: object\n"
     ]
    }
   ],
   "source": [
    "print(refined_data_eda['emp_length'])"
   ]
  },
  {
   "cell_type": "markdown",
   "id": "3bb4ee26-7a9e-4321-8bd6-7ab928d3f7cb",
   "metadata": {},
   "source": [
    "### Adding Derived Columns"
   ]
  },
  {
   "cell_type": "code",
   "execution_count": 392,
   "id": "21df22d0-4ce4-4291-9ff1-442da613f0e3",
   "metadata": {
    "tags": []
   },
   "outputs": [],
   "source": [
    "# deriving columns from issues date\n",
    "refined_data_eda['issue_year']=pd.DatetimeIndex(refined_data_eda['issue_d']).year\n",
    "refined_data_eda['issue_month']=pd.DatetimeIndex(refined_data_eda['issue_d']).month"
   ]
  },
  {
   "cell_type": "code",
   "execution_count": 394,
   "id": "22a7e4c7-4927-4c91-a8fe-debf59be253c",
   "metadata": {
    "tags": []
   },
   "outputs": [
    {
     "name": "stdout",
     "output_type": "stream",
     "text": [
      "(36847, 22)\n",
      "count    36847.000000\n",
      "mean     11141.327652\n",
      "std       7369.988994\n",
      "min        500.000000\n",
      "25%       5500.000000\n",
      "50%      10000.000000\n",
      "75%      15000.000000\n",
      "max      35000.000000\n",
      "Name: loan_amnt, dtype: float64\n"
     ]
    },
    {
     "data": {
      "text/plain": [
       "<Axes: >"
      ]
     },
     "execution_count": 394,
     "metadata": {},
     "output_type": "execute_result"
    },
    {
     "data": {
      "image/png": "[encoded data removed]",
      "text/plain": [
       "<Figure size 640x480 with 1 Axes>"
      ]
     },
     "metadata": {},
     "output_type": "display_data"
    }
   ],
   "source": [
    "print(refined_data_eda.shape)\n",
    "print(refined_data_eda[\"loan_amnt\"].describe())\n",
    "refined_data_eda['loan_amnt'].plot(kind='box')"
   ]
  },
  {
   "cell_type": "code",
   "execution_count": null,
   "id": "7e0b90d2-5307-4141-aa2b-cc2625aa60c3",
   "metadata": {},
   "outputs": [],
   "source": []
  }
 ],
 "metadata": {
  "kernelspec": {
   "display_name": "Python 3 (ipykernel)",
   "language": "python",
   "name": "python3"
  },
  "language_info": {
   "codemirror_mode": {
    "name": "ipython",
    "version": 3
   },
   "file_extension": ".py",
   "mimetype": "text/x-python",
   "name": "python",
   "nbconvert_exporter": "python",
   "pygments_lexer": "ipython3",
   "version": "3.11.5"
  }
 },
 "nbformat": 4,
 "nbformat_minor": 5
}
