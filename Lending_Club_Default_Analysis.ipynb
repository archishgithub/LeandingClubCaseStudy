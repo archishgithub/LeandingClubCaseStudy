{
 "cells": [
  {
   "cell_type": "markdown",
   "id": "39078970-44d0-4ba0-8538-ff6c62c20864",
   "metadata": {},
   "source": [
    "# Lending Club Default Analysis\n",
    "#### Batch ID : 4705\n",
    "#### Group Members : Samidh Bhagwat + Archishman Gantait\n"
   ]
  },
  {
   "cell_type": "markdown",
   "id": "17957a53-8df8-4a94-b10d-abd1ceb36483",
   "metadata": {
    "tags": []
   },
   "source": [
    "### 1. Data Understanding + Data Cleaning and Manipulation "
   ]
  },
  {
   "cell_type": "code",
   "execution_count": 16,
   "id": "94568c5f-c3c9-47b8-b23d-f7ff704cb8e7",
   "metadata": {},
   "outputs": [],
   "source": [
    "#Below are few libraries needed to perform EDA and visualize data\n",
    "import numpy as np\n",
    "import pandas as pd\n",
    "import matplotlib.pyplot as plot\n",
    "import warnings\n",
    "import seaborn as sea\n",
    "import datetime as dt"
   ]
  },
  {
   "cell_type": "code",
   "execution_count": 17,
   "id": "976ea3df-aab4-4fcc-9b7c-ba21aebec77e",
   "metadata": {
    "tags": []
   },
   "outputs": [],
   "source": [
    "#The csv while reading throws error / warning hence a warning ingore statement has been added\n",
    "warnings.filterwarnings('ignore')\n",
    "raw_data = pd.read_csv('C:/Users/agantait/Downloads/LendingClubCaseStudy/loan.csv')"
   ]
  },
  {
   "cell_type": "markdown",
   "id": "dac69038-7c78-4dc4-866a-5955b170aafe",
   "metadata": {
    "tags": []
   },
   "source": [
    "##### 1. Fix Row Check : <font color='green'>DONE</font>"
   ]
  },
  {
   "cell_type": "code",
   "execution_count": 76,
   "id": "4bfa3ef3-1c15-4b66-9d0a-09b7f4991f85",
   "metadata": {
    "tags": []
   },
   "outputs": [
    {
     "name": "stdout",
     "output_type": "stream",
     "text": [
      "(39717, 111)\n",
      "        id  member_id  loan_amnt  funded_amnt  funded_amnt_inv        term\n",
      "0  1077501    1296599       5000         5000           4975.0   36 months\n",
      "          id  member_id  loan_amnt  funded_amnt  funded_amnt_inv        term\n",
      "39716  87023      86999       7500         7500            800.0   36 months\n",
      "[' 36 months' ' 60 months']\n"
     ]
    }
   ],
   "source": [
    "print(raw_data.shape) # get the shape of the data frame\n",
    "print(raw_data.iloc[:1, :6]) # check for few columns in 1st row as header check\n",
    "print(raw_data.iloc[-1:,:6]) # check for few columns in last row as footer check\n",
    "print(raw_data['term'].unique()) # check on a low cardinality column if any column number indicators are present"
   ]
  },
  {
   "cell_type": "markdown",
   "id": "8edccb93-8e13-4c63-9936-7c48a69df190",
   "metadata": {
    "tags": []
   },
   "source": [
    "##### 2. Fix Column Check : <font color='green'>DONE</font>"
   ]
  },
  {
   "cell_type": "code",
   "execution_count": null,
   "id": "0ecd759c-c07d-463d-92f1-72764a27aacf",
   "metadata": {},
   "outputs": [],
   "source": []
  }
 ],
 "metadata": {
  "kernelspec": {
   "display_name": "Python 3 (ipykernel)",
   "language": "python",
   "name": "python3"
  },
  "language_info": {
   "codemirror_mode": {
    "name": "ipython",
    "version": 3
   },
   "file_extension": ".py",
   "mimetype": "text/x-python",
   "name": "python",
   "nbconvert_exporter": "python",
   "pygments_lexer": "ipython3",
   "version": "3.11.5"
  }
 },
 "nbformat": 4,
 "nbformat_minor": 5
}
